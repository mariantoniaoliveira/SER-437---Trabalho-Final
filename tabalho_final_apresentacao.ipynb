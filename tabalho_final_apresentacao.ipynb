{
 "cells": [
  {
   "cell_type": "markdown",
   "metadata": {},
   "source": [
    "<h1>SER-347 - Introdução à Programação para Sensoriamento Remoto </h1>\n",
    "<br>\n",
    "\n",
    "\n",
    "<h1>Classificação simultânea de diferentes imagens - trabalho final </h1>\n",
    "\n",
    "\n",
    "<br>\n",
    "\n",
    "### Maria Antônia Falcão de Oliveira"
   ]
  },
  {
   "cell_type": "markdown",
   "metadata": {},
   "source": [
    "O presente trabalho teve por objetivo elaborar um programa capaz de realizar cálculos a partir da discriminação de classes por meio do algoritmo de Máxima Verossimilhança e classificar diferentes imagens simultaneamente."
   ]
  },
  {
   "cell_type": "markdown",
   "metadata": {},
   "source": [
    "<img src=\"_trabalho_final_intro/figuras_apresentacao/diagrama.jpg\", width=450, height=450>\n",
    "\n",
    "**Figura 1** - Diagrama da proposta de trabalho "
   ]
  },
  {
   "cell_type": "markdown",
   "metadata": {},
   "source": [
    "### Importando as bibliotecas"
   ]
  },
  {
   "cell_type": "code",
   "execution_count": 4,
   "metadata": {},
   "outputs": [],
   "source": [
    "###################################### IMPORTANDO AS BIBLIOTECAS ######################################\n",
    "\n",
    "from osgeo import gdal, ogr # leitura de imagem e shp\n",
    "\n",
    "import pandas as pd\n",
    "\n",
    "import geopandas as gpd \n",
    "\n",
    "import numpy as np\n",
    "\n",
    "# importar constantes\n",
    "from gdalconst import *\n",
    "\n",
    "# informar o uso de exceções\n",
    "gdal.UseExceptions()\n",
    "\n",
    "# biblioteca de funções relacionadas ao sistema\n",
    "# sys: System-specific parameters and functions\n",
    "import sys\n",
    "\n",
    "import glob\n",
    "\n",
    "from numpy import *\n",
    "from numpy.linalg import inv\n",
    "\n",
    "import os\n",
    "\n",
    "import math"
   ]
  },
  {
   "cell_type": "markdown",
   "metadata": {},
   "source": [
    "- O MaxVer é um classificador estatístico baseado em Bayes.\n",
    "- Por ser um classificador supervisionado, requer um conhecimento prévio das classes de interesse."
   ]
  },
  {
   "cell_type": "markdown",
   "metadata": {},
   "source": [
    "### Acessando os dados no formato shapefile"
   ]
  },
  {
   "cell_type": "code",
   "execution_count": 25,
   "metadata": {},
   "outputs": [],
   "source": [
    "###################################### ACESSANDO OS DADOS EM FORMATO SHP ######################################\n",
    "\n",
    "# informando diretório onde estão armazenadas as amostras\n",
    "\n",
    "dir_shp_tr = 'C:/Users/Maria/_trabalho_final_intro/amostras_shp/samples_tr.shp' # amostras de treinamento\n",
    "dir_shp_tst = 'C:/Users/Maria/_trabalho_final_intro/amostras_shp/samples_tst.shp' # amostras de teste\n",
    "\n",
    "#acessando as amostras treinamento e teste\n",
    "shp_tr = ogr.Open(dir_shp_tr)\n",
    "shp_tst = ogr.Open(dir_shp_tst)\n",
    "\n",
    "layer_tr = shp_tr.GetLayer()\n",
    "layer_tst = shp_tst.GetLayer()\n",
    "\n",
    "# identificando o número total de classes \n",
    "tam_tr = layer_tr.GetFeatureCount()\n",
    "tam_tst = layer_tst.GetFeatureCount()\n",
    "\n",
    "# checando uma determinada posição de um objeto \n",
    "atr_tr = layer_tr.GetFeature(5)\n",
    "atr_tst = layer_tst.GetFeature(5)\n",
    "\n",
    "# verificando as coordendas do objeto selecionado \n",
    "nx = atr_tr.GetField(\"X\")\n",
    "ny = atr_tr.GetField(\"Y\")\n",
    "\n",
    "# identificando o ID\n",
    "fid = atr_tr.GetFID()"
   ]
  },
  {
   "cell_type": "markdown",
   "metadata": {},
   "source": [
    "### Verificando a estrutura da tabela de atributos"
   ]
  },
  {
   "cell_type": "code",
   "execution_count": 26,
   "metadata": {
    "scrolled": true
   },
   "outputs": [
    {
     "data": {
      "text/html": [
       "<div>\n",
       "<style scoped>\n",
       "    .dataframe tbody tr th:only-of-type {\n",
       "        vertical-align: middle;\n",
       "    }\n",
       "\n",
       "    .dataframe tbody tr th {\n",
       "        vertical-align: top;\n",
       "    }\n",
       "\n",
       "    .dataframe thead th {\n",
       "        text-align: right;\n",
       "    }\n",
       "</style>\n",
       "<table border=\"1\" class=\"dataframe\">\n",
       "  <thead>\n",
       "    <tr style=\"text-align: right;\">\n",
       "      <th></th>\n",
       "      <th>classe</th>\n",
       "      <th>num_classe</th>\n",
       "      <th>X</th>\n",
       "      <th>Y</th>\n",
       "      <th>geometry</th>\n",
       "    </tr>\n",
       "  </thead>\n",
       "  <tbody>\n",
       "    <tr>\n",
       "      <th>0</th>\n",
       "      <td>CAF</td>\n",
       "      <td>1</td>\n",
       "      <td>324022.500002</td>\n",
       "      <td>9638402.5</td>\n",
       "      <td>POINT (324022.500001629 9638402.500000015)</td>\n",
       "    </tr>\n",
       "    <tr>\n",
       "      <th>1</th>\n",
       "      <td>CAF</td>\n",
       "      <td>1</td>\n",
       "      <td>323527.500002</td>\n",
       "      <td>9638192.5</td>\n",
       "      <td>POINT (323527.5000016287 9638192.500000015)</td>\n",
       "    </tr>\n",
       "    <tr>\n",
       "      <th>2</th>\n",
       "      <td>CAF</td>\n",
       "      <td>1</td>\n",
       "      <td>327247.500002</td>\n",
       "      <td>9635897.5</td>\n",
       "      <td>POINT (327247.5000016286 9635897.500000015)</td>\n",
       "    </tr>\n",
       "    <tr>\n",
       "      <th>3</th>\n",
       "      <td>CAF</td>\n",
       "      <td>1</td>\n",
       "      <td>326272.500002</td>\n",
       "      <td>9635807.5</td>\n",
       "      <td>POINT (326272.500001629 9635807.500000015)</td>\n",
       "    </tr>\n",
       "    <tr>\n",
       "      <th>4</th>\n",
       "      <td>CAF</td>\n",
       "      <td>1</td>\n",
       "      <td>324577.500002</td>\n",
       "      <td>9636182.5</td>\n",
       "      <td>POINT (324577.5000016291 9636182.500000015)</td>\n",
       "    </tr>\n",
       "  </tbody>\n",
       "</table>\n",
       "</div>"
      ],
      "text/plain": [
       "  classe  num_classe              X          Y  \\\n",
       "0    CAF           1  324022.500002  9638402.5   \n",
       "1    CAF           1  323527.500002  9638192.5   \n",
       "2    CAF           1  327247.500002  9635897.5   \n",
       "3    CAF           1  326272.500002  9635807.5   \n",
       "4    CAF           1  324577.500002  9636182.5   \n",
       "\n",
       "                                      geometry  \n",
       "0   POINT (324022.500001629 9638402.500000015)  \n",
       "1  POINT (323527.5000016287 9638192.500000015)  \n",
       "2  POINT (327247.5000016286 9635897.500000015)  \n",
       "3   POINT (326272.500001629 9635807.500000015)  \n",
       "4  POINT (324577.5000016291 9636182.500000015)  "
      ]
     },
     "execution_count": 26,
     "metadata": {},
     "output_type": "execute_result"
    }
   ],
   "source": [
    "dir_shp = gpd.read_file(\"C:/Users/Maria/_trabalho_final_intro/amostras_shp/samples_tr.shp\")\n",
    "dir_shp.head()"
   ]
  },
  {
   "cell_type": "markdown",
   "metadata": {},
   "source": [
    "#### Verificando o número total de amostras "
   ]
  },
  {
   "cell_type": "code",
   "execution_count": 29,
   "metadata": {},
   "outputs": [
    {
     "name": "stdout",
     "output_type": "stream",
     "text": [
      "O número total de pontos de amostra é: 500\n",
      "Número de classes: 5\n"
     ]
    }
   ],
   "source": [
    "num_classe = (len(dir_shp))\n",
    "print(\"O número total de pontos de amostra é:\", num_classe)\n",
    "\n",
    "# verificando o número de amostras por classe\n",
    "for i in range(tam_tr):\n",
    "    aux = layer_tr.GetFeature(i)\n",
    "    auxclass = aux.GetFieldAsInteger64(\"num_classe\")\n",
    "print(\"Número de classes:\", auxclass)"
   ]
  },
  {
   "cell_type": "markdown",
   "metadata": {},
   "source": [
    "#### Verificando os tipos de dados das colunas"
   ]
  },
  {
   "cell_type": "code",
   "execution_count": 48,
   "metadata": {},
   "outputs": [
    {
     "data": {
      "text/plain": [
       "classe         object\n",
       "num_classe      int64\n",
       "X             float64\n",
       "Y             float64\n",
       "geometry       object\n",
       "dtype: object"
      ]
     },
     "execution_count": 48,
     "metadata": {},
     "output_type": "execute_result"
    }
   ],
   "source": [
    "dir_shp.dtypes"
   ]
  },
  {
   "cell_type": "markdown",
   "metadata": {},
   "source": [
    "### Transformando o dado shapefile"
   ]
  },
  {
   "cell_type": "code",
   "execution_count": null,
   "metadata": {},
   "outputs": [],
   "source": [
    "###################################### TRATANDO OS DADOS EM FORMATO SHP ######################################\n",
    "\n",
    "# parâmetros para construir uma matriz para as amostras\n",
    "# número de classes\n",
    "nclass = 1\n",
    "for i in range(tam_tr):\n",
    "    aux = layer_tr.GetFeature(i)\n",
    "    auxclass = aux.GetFieldAsInteger64(\"num_classe\")\n",
    "    if auxclass > nclass:\n",
    "        nclass = auxclass\n",
    "    \n",
    "# número de amostras total\n",
    "nlin_tr = layer_tr.GetFeatureCount()\n",
    "nlin_tst = layer_tst.GetFeatureCount()\n",
    "\n",
    "# construindo a matriz a partir do numpy para amostras de treinamento\n",
    "matriz_shape_tr = np.zeros((nlin_tr, 4))\n",
    "\n",
    "for i in range(nlin_tr):\n",
    "    aux = layer_tr.GetFeature(i)\n",
    "    matriz_shape_tr[i,0]= aux.GetFieldAsInteger(\"FID\")\n",
    "    matriz_shape_tr[i,1]= aux.GetFieldAsInteger64(\"num_classe\")\n",
    "    matriz_shape_tr[i,2]= aux.GetField(\"X\")\n",
    "    matriz_shape_tr[i,3]= aux.GetField(\"Y\")\n",
    "\n",
    "# construindo a matriz a partir do numpy para amostras de teste\n",
    "matriz_shape_tst = np.zeros((nlin_tst, 4))\n",
    "\n",
    "for i in range(nlin_tst):\n",
    "    aux = layer_tst.GetFeature(i)  \n",
    "    matriz_shape_tst[i,0]= aux.GetFieldAsInteger(\"FID\")\n",
    "    matriz_shape_tst[i,1]= aux.GetFieldAsInteger64(\"num_classe\")\n",
    "    matriz_shape_tst[i,2]= aux.GetField(\"X\")\n",
    "    matriz_shape_tst[i,3]= aux.GetField(\"Y\")"
   ]
  },
  {
   "cell_type": "markdown",
   "metadata": {},
   "source": [
    "### Acessando as imagens utilizadas na classificação"
   ]
  },
  {
   "cell_type": "code",
   "execution_count": 8,
   "metadata": {},
   "outputs": [
    {
     "name": "stdout",
     "output_type": "stream",
     "text": [
      "Arquivo aberto com sucesso!\n"
     ]
    }
   ],
   "source": [
    "###################################### ACESSANDO A IMAGEM ######################################\n",
    "\n",
    "for img_file in glob.glob('C:/Users/Maria/_trabalho_final_intro/imagens/*.tif'):\n",
    "    \n",
    "    # lendo a imagem\n",
    "    img = gdal.Open(img_file, GA_ReadOnly)\n",
    "\n",
    "    # número de linhas e colunas\n",
    "    linhas = img.RasterYSize\n",
    "    colunas = img.RasterXSize\n",
    "\n",
    "    # quantidade de bandas\n",
    "    nband = img.RasterCount\n",
    "\n",
    "    # acessando as bandas\n",
    "    band = img.GetRasterBand(1)\n",
    "    img_asarray = band.ReadAsArray()\n",
    "\n",
    "    # checando abertura do arquivo\n",
    "    try:\n",
    "        img = gdal.Open(img_file, GA_ReadOnly)\n",
    "        print(\"Arquivo aberto com sucesso!\")\n",
    "    except:\n",
    "        print(\"Erro na abertura do arquivo!\")"
   ]
  },
  {
   "cell_type": "markdown",
   "metadata": {},
   "source": [
    "### Checando as imagens no diretório"
   ]
  },
  {
   "cell_type": "code",
   "execution_count": 9,
   "metadata": {},
   "outputs": [
    {
     "name": "stdout",
     "output_type": "stream",
     "text": [
      "CBERS_4_MUX_20160703_3b_567e8_20m.tif\n",
      "LS_2016_5b_B2457e8_15m.tif\n",
      "LS_2016_6b_B14567e8_30m.tif\n"
     ]
    }
   ],
   "source": [
    "# Acessando o diretório contendo as imagens que serão classificadas\n",
    "\n",
    "os.chdir(os.path.join(os.getcwd(), 'C:/Users/Maria/_trabalho_final_intro/imagens'))\n",
    "os.getcwd()\n",
    "\n",
    "imagens = os.listdir(os.getcwd())\n",
    "\n",
    "for dados in imagens:\n",
    "    if dados[-3:] == 'tif':\n",
    "        print(dados)  \n"
   ]
  },
  {
   "cell_type": "markdown",
   "metadata": {},
   "source": [
    "### Checando a extensão espacial das imagens"
   ]
  },
  {
   "cell_type": "code",
   "execution_count": 10,
   "metadata": {},
   "outputs": [],
   "source": [
    "################################# FUNÇÃO PARA CHECAR A EXTENSÃO ESPACIAL ################################## \n",
    "\n",
    "# transformando coordenadas geográficas nas coordenadas da imagem\n",
    "trans = img.GetGeoTransform()\n",
    "\n",
    "def world2Pixel(trans, nx, ny):\n",
    "    ulX = trans[0]\n",
    "    ulY = trans[3]\n",
    "    xDist = trans[1]\n",
    "    yDist = trans[5]\n",
    "    rtnX = trans[2]\n",
    "    rtnY = trans[4]\n",
    "    column = int((nx - ulX) / xDist)\n",
    "    row = int((ulY - ny) / xDist)\n",
    "\n",
    "    return (row, column)"
   ]
  },
  {
   "cell_type": "markdown",
   "metadata": {},
   "source": [
    "### Armazenando o número de pixel por classe e criando a matriz com valores espectrais"
   ]
  },
  {
   "cell_type": "code",
   "execution_count": 11,
   "metadata": {},
   "outputs": [],
   "source": [
    "################################### ARMAZENANDO O NÚMERO DE PIXEL POR CLASSE ###################################\n",
    "# associando o pixel da imagem a classe - utilizado para o caso das amostras variarem de tamanho \n",
    "# funciona tanto para tamanhos != quanto para tamanhos =s de amostras.\n",
    "\n",
    "# criação de vetor que guarda o numero de pixel por classe\n",
    "pixel_classe = np.zeros((1, nclass))\n",
    "cont1 = 0\n",
    "cont2 = 0\n",
    "\n",
    "for i in range(nclass):\n",
    "    while cont2 < nlin_tr and i + 1 == matriz_shape_tr[cont2, 1]:\n",
    "        cont1 += 1\n",
    "        cont2 += 1\n",
    "    pixel_classe[0, i] = cont1\n",
    "    cont1 = 0\n",
    "\n",
    "################################## CÁLCULO DO NÚMERO TOTAL DE PIXEL POR CLASSE ##################################\n",
    "\n",
    "# calculando do valor máximo de pixel armazenado por classe (corresponde a tamanho total de cada classe)\n",
    "# se utilizado números de amostras != para cada classe, é necessário saber qual classe possui tam >.\n",
    "max_pix = int(pixel_classe.max())\n",
    "\n",
    "\n",
    "################################## CRIAÇÃO DA MATRIZ COM VALORES ESPECTRAIS #################################\n",
    "# considerando a localização das coord X e Y do Ponto com as da imagem\n",
    "# matriz construída a partir do maior valor de amostras, para deixar as demais amostras de mesmo tamanho, \n",
    "# a matriz foi preenchida por zero.\n",
    "\n",
    "# criando matriz com valores espectrais da imagem\n",
    "matriz_amostras = np.zeros((nband, nclass, max_pix))\n",
    "\n",
    "cont2 = 0  # percorre as nlinhas da matriz_shape_tr\n",
    "\n",
    "for i in range(img.RasterCount):\n",
    "    band = img.GetRasterBand(i + 1)\n",
    "    img_asarray = band.ReadAsArray()\n",
    "    for j in range(nclass):\n",
    "        lim_pxcls = int(pixel_classe[0, j])\n",
    "        for k in range(lim_pxcls):\n",
    "            # utilizando a função que percorre as coord da imagem e associando a localização das amostras\n",
    "            pix_xy = world2Pixel(trans, matriz_shape_tr[cont2, 2], matriz_shape_tr[cont2, 3])  #chama as coord. xy da imagem\n",
    "            valor_espec = img_asarray[pix_xy[0], pix_xy[1]]  #coordenada pix_xy[0] = x e pix_xy[1] = y\n",
    "            matriz_amostras[i][j][k] = valor_espec\n",
    "            if cont2 < nlin_tr - 1:\n",
    "                cont2 += 1\n",
    "    cont2 = 0"
   ]
  },
  {
   "cell_type": "markdown",
   "metadata": {},
   "source": [
    "<img src=\"_trabalho_final_intro/figuras_apresentacao/cubo.jpg\", width=450, height=450>\n",
    "\n",
    "**Figura 2** - Representação da matriz tridimensional que armazena os valores de pixels para cada banda por classe"
   ]
  },
  {
   "cell_type": "markdown",
   "metadata": {},
   "source": [
    "### Cálculo da Máxima Verossimilhança\n",
    "<br>\n",
    "$g_{i}(x) - ln \\: p(\\omega_{i} ) - \\frac{1}{2} \\: ln \\left | \\sum_{i} \\right  | - \\frac{1}{2}(x - m_{i})^{T}\\sum_{i}^{-1}(x - m_{i})$\n",
    "<br>\n",
    "<br>\n",
    "<br>\n",
    "Onde:\n",
    "\n",
    "$i =$ classe\n",
    "\n",
    "$x =$ dados $n$-dimensionais (onde $n$ é o número de bandas)\n",
    "\n",
    "$p(\\omega_{i}) =$ probabilidade que a classe $\\omega_{i}$ ocorra na imagem e seja assumida a mesma para todas as classes\n",
    "\n",
    "$\\left | \\sum_{i} \\right  | =$ determinante da matriz de covariância dos dados da classe $\\omega_{i}$\n",
    "\n",
    "$\\sum_{i}^{-1} =$ sua matriz inversa\n",
    "\n",
    "$m_{i} =$ vetor médio \n"
   ]
  },
  {
   "cell_type": "markdown",
   "metadata": {},
   "source": [
    "### Calculando a matriz de média e a matriz de covariância\n",
    "#### Parâmetros utilizados para o cálculo do MaxVer"
   ]
  },
  {
   "cell_type": "code",
   "execution_count": 34,
   "metadata": {},
   "outputs": [],
   "source": [
    "############################################## MATRIZ DE MÉDIA #############################################\n",
    "\n",
    "# calculo da matriz de média por classe - matriz bidimensional\n",
    "# as colunas possuem os valores da média de cada classe com cada banda\n",
    "# cada classe vai ter uma média por banda \n",
    "matriz_media = np.zeros((nband, nclass))\n",
    "for i in range(nband):\n",
    "    for j in range(nclass):\n",
    "        # soma de todos os pixels / total de pixels\n",
    "        soma = sum(matriz_amostras[i][j][0:max_pix])\n",
    "        matriz_media[i][j] = soma / pixel_classe[0, j]\n",
    "        \n",
    "\n",
    "###################################### CÁLCULO DA MATRIZ DE COVARIÂNCIA ######################################\n",
    "# cada classe vai possuir uma matriz de covariância\n",
    "# calcula o valor banda x banda\n",
    "# cálculo da matriz de covariancia por classe\n",
    "matriz_cov = np.zeros((nclass, nband, nband))\n",
    "# somatório de todos os pixels - média \n",
    "for j in range(nclass):\n",
    "    lim_pxcls = int(pixel_classe[0, j])\n",
    "    for i in range(nband):\n",
    "        for k in range(nband):\n",
    "            matriz_cov[j][k][i] = sum((matriz_amostras[i][j][0:lim_pxcls] - matriz_media[i][j]) * (\n",
    "                        matriz_amostras[k][j][0:lim_pxcls] - matriz_media[k][j])) / (lim_pxcls - 1)        "
   ]
  },
  {
   "cell_type": "markdown",
   "metadata": {},
   "source": [
    "**Cálculo da Matriz de Covariância**\n",
    "\n",
    "$covariance = \\frac{\\sum(x_i - x_{\\mu})(y_i - y_\\mu)}{n - 1}$\n",
    "\n"
   ]
  },
  {
   "cell_type": "markdown",
   "metadata": {},
   "source": [
    "### Armazenando os valores espectrais por banda"
   ]
  },
  {
   "cell_type": "code",
   "execution_count": 13,
   "metadata": {},
   "outputs": [],
   "source": [
    "################################## ARMAZENANDO OS VALORES ESPECTRAIS POR BANDA ##################################\n",
    "# criando matrizes para cada banda para guardar os valores espctrais da imagem por banda\n",
    "# lista de matrizes, cada banda/matriz vai ter um plano !=\n",
    "\n",
    "matriz_img = np.zeros((nband, linhas, colunas))\n",
    "\n",
    "for i in range(nband):\n",
    "    band = img.GetRasterBand(i + 1)\n",
    "    img_asarray = band.ReadAsArray()\n",
    "    for j in range(linhas):\n",
    "        for k in range(colunas):\n",
    "            matriz_img[i][j][k] = img_asarray[j][k]"
   ]
  },
  {
   "cell_type": "markdown",
   "metadata": {},
   "source": [
    "### Implementando o algoritmo de Máxima Verossimilhança"
   ]
  },
  {
   "cell_type": "code",
   "execution_count": 14,
   "metadata": {},
   "outputs": [],
   "source": [
    "##################################### CÁLCULO DA MÁXIMA VEROSSIMILHANÇA #####################################\n",
    "\n",
    "from numpy import *\n",
    "from numpy.linalg import inv\n",
    "\n",
    "import math\n",
    "\n",
    "# calculo do maxver\n",
    "matriz_mxv = np.zeros((nclass, linhas, colunas))\n",
    "aux1 = np.zeros((nband, 1)) # matriz onde estão arazenados os valores espectrais da imagem por banda\n",
    "aux2 = np.zeros((nband, 1)) # matriz da média\n",
    "band1 = 0\n",
    "\n",
    "for i in range(nclass):\n",
    "    for j in range(linhas):\n",
    "        for k in range(colunas):\n",
    "            while (band1 < nband):\n",
    "                aux1[band1][0] = matriz_img[band1][j][k]\n",
    "                aux2[band1][0] = matriz_media[band1][i]\n",
    "                band1 += 1\n",
    "\n",
    "            band1 = 0\n",
    "\n",
    "            a = (log(1 / nclass) - 0.5 * log(np.linalg.det(matriz_cov[i][:][:]))) #\"np.linalg.det\" calcula o determinante de uma matriz            \n",
    "            b = (-0.5 * transpose(aux1 - aux2)) #\"transpose\" permuta as dimensões de uma matriz\n",
    "            c = (inv(matriz_cov[i][:][:])) # \"inv\" matriz inversa\n",
    "            d = (aux1 - aux2)\n",
    "            e = dot(b, c) # função \"dot\" realiza a multiplicação de matrizes\n",
    "            f = dot(e, d) \n",
    "            matriz_mxv[i][j][k] = a + f"
   ]
  },
  {
   "cell_type": "markdown",
   "metadata": {},
   "source": [
    "### Criando a matriz de classificação\n"
   ]
  },
  {
   "cell_type": "code",
   "execution_count": 16,
   "metadata": {},
   "outputs": [],
   "source": [
    "##################################### CRIANDO A MATRIZ DE CLASSIFICAÇÃO #####################################\n",
    "\n",
    "# criando matriz de classificação\n",
    "map_class = np.zeros((linhas, colunas))\n",
    "aux = np.zeros((nclass,1))\n",
    "class1 = 0\n",
    "max1 = 0\n",
    "cont = 0\n",
    "\n",
    "for j in range(linhas):\n",
    "    for k in range(colunas):\n",
    "        while(class1 < nclass):\n",
    "            aux[class1][0] = matriz_mxv[class1][j][k]\n",
    "            class1 += 1         \n",
    "        max1 = np.max(aux)           \n",
    "        while (aux[cont][0]!= max1):\n",
    "            cont += 1           \n",
    "        map_class[j][k] = cont + 1           \n",
    "        class1 = 0\n",
    "        cont = 0\n",
    "        max1 = 0"
   ]
  },
  {
   "cell_type": "markdown",
   "metadata": {},
   "source": [
    "### Visualizando a Classificação"
   ]
  },
  {
   "cell_type": "code",
   "execution_count": 17,
   "metadata": {},
   "outputs": [
    {
     "data": {
      "image/png": "[encoded data removed]",
      "text/plain": [
       "<Figure size 432x288 with 1 Axes>"
      ]
     },
     "metadata": {},
     "output_type": "display_data"
    }
   ],
   "source": [
    "import matplotlib.pyplot as plt\n",
    "plt.title('Classificação')\n",
    "plt.imshow(map_class)\n",
    "plt.colorbar\n",
    "plt.show()"
   ]
  },
  {
   "cell_type": "markdown",
   "metadata": {},
   "source": [
    "### Criando a matriz de confusão\n",
    "\n",
    "**Tabela 1** - Matriz de Confusão\n",
    "<img src=\"_trabalho_final_intro/figuras_apresentacao/matriz_confusao.png\", width=450, height=450>\n"
   ]
  },
  {
   "cell_type": "code",
   "execution_count": 19,
   "metadata": {},
   "outputs": [],
   "source": [
    "##################################### CRIANDO A MATRIZ DE CONFUSÃO #####################################\n",
    "\n",
    "# construção da matriz de confusão\n",
    "\n",
    "matrix_confu = np.zeros((nclass, nclass))\n",
    "cont = 0\n",
    "\n",
    "# matriz transposta da do envi, saída do programa\n",
    "\n",
    "for j in range(nclass):\n",
    "    lim_pxcls = int(pixel_classe[0, j])\n",
    "    for k in range(lim_pxcls):\n",
    "        pix_xy = world2Pixel(trans, matriz_shape_tst[cont, 2], matriz_shape_tst[cont, 3])  #chama as coord. xy da imagem\n",
    "        value_class = int(map_class[pix_xy[0], pix_xy[1]])  #coordenada pix_xy[0] = x e pix_xy[1] = y        \n",
    "        matrix_confu[j][value_class - 1] = matrix_confu[j][value_class - 1] + 1\n",
    "        if cont < nlin_tr - 1:\n",
    "            cont += 1\n",
    "\n",
    "# matriz de acordo com o envi.\n",
    "\n",
    "matrix_confu_inv = np.zeros((nclass, nclass))\n",
    "\n",
    "for j in range(nclass):\n",
    "    for k in range(nclass):\n",
    "        matrix_confu_inv[j][k] = matrix_confu[k][j]"
   ]
  },
  {
   "cell_type": "markdown",
   "metadata": {},
   "source": [
    "### Calculando o Índice de kappa e acurácias\n",
    "\n",
    "Índice de kappa é dado por: $\\kappa = \\frac{P_{o} - P_{c}}{1 - P_{c}}$\n",
    "<br>\n",
    "<br>\n",
    "Em que: $P_{o} = \\frac{\\sum_{i=1}^{\\kappa}n_{ii}}{N}$ e $P_{c} = \\frac{\\sum_{i=1}^{\\kappa}n_{i+}n_{+i}}{N^2}$. \n",
    "<br>\n",
    "<br>\n",
    "$P_{o}$ é conhecido como Acurácia global.\n",
    "<br>\n",
    "<br>\n",
    "Exatidão Global: $P_{o} = \\frac{\\sum_{i=1}^{\\kappa}n_{ii}}{N} * 100$\n",
    "<br>\n",
    "<br>\n",
    "Acurácia do usuário: $au_{i} = \\frac{n_{ii}}{n_{i+}}$\n",
    "<br>\n",
    "<br>\n",
    "Acurácia do produtor: $ap_{i} = \\frac{n_{ii}}{n_{+i}}$\n"
   ]
  },
  {
   "cell_type": "code",
   "execution_count": 37,
   "metadata": {},
   "outputs": [],
   "source": [
    "##################################### CALCULANDO O ÍNDICE DE KAPPA E ACURÁCIAS #####################################\n",
    "\n",
    "# construção do índice kappa\n",
    "soma = 0  # valor total de pixel da amostras de teste\n",
    "cont1 = 0\n",
    "\n",
    "vet_col = np.zeros((1, nclass))\n",
    "vet_lin = np.zeros((1, nclass))\n",
    "sum_diag = 0\n",
    "diag = np.zeros((1, nclass))\n",
    "\n",
    "for k in range(nclass):\n",
    "    soma = soma + pixel_classe[0, k]\n",
    "\n",
    "# somando as linhas da matriz\n",
    "for i in range(nclass):\n",
    "    for j in range(nclass):\n",
    "        cont1 = cont1 + matrix_confu[i][j]\n",
    "        if i == j:\n",
    "            sum_diag = sum_diag + matrix_confu[i][j]\n",
    "            diag[0][i] = matrix_confu[i][j]\n",
    "\n",
    "    vet_lin[0, i] = cont1\n",
    "    cont1 = 0\n",
    "\n",
    "# somando as colunas da matriz\n",
    "for i in range(nclass):\n",
    "    for j in range(nclass):\n",
    "        cont1 = cont1 + matrix_confu[j][i]\n",
    "    vet_col[0, i] = cont1\n",
    "    cont1 = 0\n",
    "\n",
    "# calculando a acurácia global\n",
    "po = sum_diag / soma\n",
    "ac_global = po * 100  # acurácia global\n",
    "\n",
    "pc = (sum(vet_col * vet_lin)) / (soma ** 2)\n",
    "\n",
    "kappa = (po - pc) / (1 - pc)\n",
    "\n",
    "# calculando a acurácia do usuário\n",
    "ac_usuario = (diag / vet_col) * 100\n",
    "\n",
    "# calculando a acurácia do produtor\n",
    "ac_produtor = (diag / vet_lin) * 100"
   ]
  },
  {
   "cell_type": "markdown",
   "metadata": {},
   "source": [
    "### Salvando o resultado em txt"
   ]
  },
  {
   "cell_type": "code",
   "execution_count": 21,
   "metadata": {},
   "outputs": [],
   "source": [
    "###################################### SALVANDO O RESULTADO EM TXT ######################################\n",
    "\n",
    "num_arq = 0 # variável que modifica o nome do arquivo de saída.\n",
    "\n",
    "# Acessando o diretório onde estão salvas as imagens\n",
    "os.chdir(os.path.join(os.getcwd(), 'C:/Users/Maria/_trabalho_final_intro/imagens'))\n",
    "os.getcwd()\n",
    "\n",
    "# Criando lista com os nomes das imagens acessadas no diretório\n",
    "lista_nomes = os.listdir(os.getcwd())\n",
    "nome_arq = []\n",
    "\n",
    "for dados in lista_nomes:\n",
    "    if dados[-3:] == 'tif':\n",
    "        nome_arq2 = nome_arq.append(dados[:-4])\n",
    "\n",
    "#-----------------        \n",
    "\n",
    "# salvando a matriz em arquivo txt\n",
    "vet_ = np.zeros((1, nclass))\n",
    "for i in range(nclass):\n",
    "    vet_[0][i] = i + 1\n",
    "\n",
    "with open('C:/Users/Maria/_trabalho_final_intro/saida_txt/result.txt', \"w\", encoding='utf-8') as out_file:    \n",
    "    for i in range(len(vet_)):\n",
    "        out_string = \"\"\n",
    "        out_file.write(out_string)\n",
    "        out_string += str(vet_[i])\n",
    "        out_file.write(out_string)\n",
    "    out_string = (\"\\n\")\n",
    "    out_file.write(out_string)\n",
    "    for i in range(len(matrix_confu_inv)):\n",
    "        out_string = \"\"\n",
    "        out_string += str(i + 1)\n",
    "        out_string += str(matrix_confu_inv[i])   \n",
    "        out_string += \"\\n\"\n",
    "        out_file.write(out_string)\n",
    "    out_string = (\"\\n\")\n",
    "    out_file.write(out_string)\n",
    "    out_string = (\"Kappa: \")\n",
    "    out_file.write(out_string)\n",
    "    out_string = str(kappa)   \n",
    "    out_file.write(out_string)\n",
    "    out_string = (\"\\n\")\n",
    "    out_file.write(out_string)\n",
    "    out_string = (\"Acurácia Global: \")\n",
    "    out_file.write(out_string)\n",
    "    out_string = str(ac_global)\n",
    "    out_file.write(out_string)\n",
    "    out_string = (\"\\n\")\n",
    "    out_file.write(out_string)\n",
    "    out_string = (\"Acurácia do usuário: \")\n",
    "    out_file.write(out_string)    \n",
    "    for i in range(len(ac_usuario)):\n",
    "        out_string = \"\"\n",
    "        out_string += str(ac_usuario[i])\n",
    "        out_string += \"\\n\"\n",
    "        out_file.write(out_string)\n",
    "    out_string = (\"Acurácia do produtor: \")\n",
    "    out_file.write(out_string)\n",
    "    for i in range(len(ac_produtor)):\n",
    "        out_string = \"\"\n",
    "        out_string += str(ac_produtor[i])\n",
    "        out_string += \"\\n\"\n",
    "        out_file.write(out_string)"
   ]
  },
  {
   "cell_type": "markdown",
   "metadata": {},
   "source": [
    "### Salvando a classificação em formato tiff"
   ]
  },
  {
   "cell_type": "code",
   "execution_count": 22,
   "metadata": {},
   "outputs": [],
   "source": [
    "###################################### SALVANDO A CLASSIFICAÇÃO EM TIFF ######################################\n",
    "# obter metadados\n",
    "linhas = img.RasterYSize\n",
    "colunas = img.RasterXSize\n",
    "bandas = 1\n",
    "\n",
    "#salvar a banda em GeoTIFF\n",
    "# definir o nome aquivo\n",
    "filename_output = \"C:/Users/Maria/_trabalho_final_intro/saida_classificacao/classif_mxv4_5b_B2457e8_500x400.tif\"\n",
    "# definir driver\n",
    "driver = gdal.GetDriverByName('GTiff')\n",
    "# copiar tipo de dados da banda já existente\n",
    "data_type = gdal.GDT_Int16\n",
    "# criar novo dataset\n",
    "dataset_output = driver.Create(filename_output, colunas, linhas, bandas, data_type)\n",
    "# copiar informações espaciais da banda já existente\n",
    "dataset_output.SetGeoTransform(img.GetGeoTransform())\n",
    "# copiar informações de projeção\n",
    "dataset_output.SetProjection(img.GetProjectionRef())\n",
    "# escrever dados da matriz mxv na banda\n",
    "dataset_output.GetRasterBand(1).WriteArray(map_class)\n",
    "# salvar valores\n",
    "dataset_output.FlushCache()\n",
    "# fechar dataset\n",
    "dataset_output = None"
   ]
  },
  {
   "cell_type": "code",
   "execution_count": 23,
   "metadata": {},
   "outputs": [],
   "source": [
    "############################################# LIBERANDO MEMÓRIA #############################################\n",
    "    \n",
    "#fenchando as imagens para liberar memória\n",
    "img = None  "
   ]
  }
 ],
 "metadata": {
  "kernelspec": {
   "display_name": "Python (geospatial)",
   "language": "python",
   "name": "copia_geospacial"
  },
  "language_info": {
   "codemirror_mode": {
    "name": "ipython",
    "version": 3
   },
   "file_extension": ".py",
   "mimetype": "text/x-python",
   "name": "python",
   "nbconvert_exporter": "python",
   "pygments_lexer": "ipython3",
   "version": "3.6.5"
  }
 },
 "nbformat": 4,
 "nbformat_minor": 2
}
